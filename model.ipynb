{
 "cells": [
  {
   "cell_type": "code",
   "execution_count": 2,
   "metadata": {},
   "outputs": [],
   "source": [
    "import pandas as pd\n",
    "from sklearn.linear_model import LinearRegression\n",
    "from sklearn.model_selection import train_test_split"
   ]
  },
  {
   "cell_type": "code",
   "execution_count": 36,
   "metadata": {},
   "outputs": [],
   "source": [
    "df = pd.read_csv('avg_wage.csv', encoding='utf-8-sig')\n",
    "df.head()\n",
    "df['Country'] = df['Country'].astype(str)"
   ]
  },
  {
   "cell_type": "code",
   "execution_count": 4,
   "metadata": {},
   "outputs": [],
   "source": [
    "# get all the columns except the last one\n",
    "X = df.iloc[:, 1:-1].values\n",
    "y = df.iloc[:, -1].values"
   ]
  },
  {
   "cell_type": "code",
   "execution_count": 5,
   "metadata": {},
   "outputs": [
    {
     "data": {
      "text/plain": [
       "array([[55366, 58092, 61048, 61132, 61634, 61347, 62263, 63845, 63942,\n",
       "        64618, 65303, 66383],\n",
       "       [53810, 61187, 51234, 53452, 53137, 53966, 54736, 58377, 62949,\n",
       "        69051, 72466, 70391],\n",
       "       [57100, 59505, 63917, 62955, 62451, 63058, 65379, 66247, 66393,\n",
       "        67393, 67448, 66840],\n",
       "       [56529, 61063, 63277, 63533, 64582, 65431, 65548, 65910, 65453,\n",
       "        65151, 64963, 65906],\n",
       "       [52371, 54565, 57959, 57601, 57835, 58035, 57729, 58403, 58604,\n",
       "        58171, 57581, 57475],\n",
       "       [46360, 50879, 54928, 54644, 54570, 54925, 55976, 56960, 57043,\n",
       "        57355, 57794, 57967],\n",
       "       [38647, 44438, 50586, 42347, 53777, 54853, 55121, 55404, 54224,\n",
       "        54117, 54691, 55753],\n",
       "       [44108, 45824, 50024, 50512, 51289, 51924, 52557, 52968, 52019,\n",
       "        52765, 53730, 54119],\n",
       "       [45201, 48615, 51957, 53601, 53919, 53672, 54085, 53636, 53724,\n",
       "        53437, 53515, 54021],\n",
       "       [51922, 52969, 53969, 54520, 54951, 55503, 55809, 55427, 55526,\n",
       "        55130, 55388, 56022],\n",
       "       [45584, 46553, 47054, 48026, 48683, 49159, 50001, 51172, 51902,\n",
       "        52454, 53221, 54041],\n",
       "       [47860, 49764, 52334, 51755, 52071, 52128, 52310, 52686, 53170,\n",
       "        53136, 53325, 53690],\n",
       "       [36886, 42603, 49665, 49138, 48665, 47437, 47142, 47134, 47812,\n",
       "        48376, 48586, 49509],\n",
       "       [40207, 45369, 46863, 46036, 45455, 46036, 46156, 46647, 47181,\n",
       "        47146, 47229, 47937],\n",
       "       [34389, 37650, 41534, 42161, 43080, 43552, 44066, 44719, 45423,\n",
       "        45681, 45917, 46418],\n",
       "       [38969, 42357, 45211, 45233, 45280, 44836, 44837, 45194, 45588,\n",
       "        45339, 45771, 46249],\n",
       "       [38782, 41562, 44325, 44256, 44552, 44927, 45237, 45680, 46214,\n",
       "        46852, 46867, 47112],\n",
       "       [32992, 37372, 40279, 40281, 41147, 40637, 40794, 41503, 42862,\n",
       "        43148, 44121, 45092],\n",
       "       [29238, 34242, 36140, 36617, 36082, 37006, 37105, 38143, 39266,\n",
       "        40216, 41624, 42297],\n",
       "       [28640, 33233, 36976, 36857, 35730, 35193, 35879, 36636, 38049,\n",
       "        38706, 39038, 40533],\n",
       "       [36276, 33774, 33455, 33754, 34300, 34556, 34636, 35627, 36921,\n",
       "        37903, 38811, 39537],\n",
       "       [38365, 38879, 38085, 38700, 38058, 38103, 37438, 37265, 37810,\n",
       "        37972, 38462, 39041],\n",
       "       [38349, 37825, 41486, 40743, 39606, 39608, 39484, 40072, 39845,\n",
       "        39326, 39033, 39055],\n",
       "       [39175, 40350, 41194, 40534, 39255, 39378, 39531, 39878, 40193,\n",
       "        39934, 39985, 40145],\n",
       "       [21131, 21996, 24688, 24658, 24406, 24671, 25198, 25854, 27145,\n",
       "        28294, 30212, 31959],\n",
       "       [11927, 18261, 19742, 20177, 20517, 21321, 22268, 23715, 24982,\n",
       "        26382, 27572, 29695],\n",
       "       [12744, 17661, 21991, 21483, 21808, 22327, 23528, 24633, 24932,\n",
       "        26417, 27920, 29948],\n",
       "       [17001, 21981, 24309, 24508, 24558, 24404, 24921, 25660, 26575,\n",
       "        27931, 29421, 30355],\n",
       "       [11759, 15913, 19385, 18698, 19472, 20444, 21899, 23742, 25154,\n",
       "        26128, 27107, 28645],\n",
       "       [28229, 28148, 28792, 28096, 26890, 27406, 26935, 26855, 26699,\n",
       "        26820, 27263, 27978],\n",
       "       [27247, 32557, 32422, 30363, 28597, 26729, 26622, 26886, 26268,\n",
       "        26418, 26680, 27010],\n",
       "       [18686, 19034, 25246, 25384, 26201, 26876, 27099, 27082, 28252,\n",
       "        27605, 28574, 29579],\n",
       "       [16213, 22097, 21664, 21942, 21211, 20988, 20713, 20873, 21063,\n",
       "        22587, 23722, 24472],\n",
       "       [14368, 16589, 19858, 19689, 19437, 19590, 19980, 20771, 21430,\n",
       "        22072, 22692, 23438],\n",
       "       [16111, 17484, 16407, 16555, 16258, 16271, 16302, 16516, 16322,\n",
       "        16277, 16637, 16771]])"
      ]
     },
     "execution_count": 5,
     "metadata": {},
     "output_type": "execute_result"
    }
   ],
   "source": [
    "X"
   ]
  },
  {
   "cell_type": "code",
   "execution_count": 6,
   "metadata": {},
   "outputs": [
    {
     "name": "stdout",
     "output_type": "stream",
     "text": [
      "R-squared: 0.9824633389218165\n"
     ]
    }
   ],
   "source": [
    "# Split the data into training and testing sets\n",
    "X_train, X_test, y_train, y_test = train_test_split(X, y, test_size=0.2, random_state=0)\n",
    "\n",
    "# Create an instance of the LinearRegression model\n",
    "regressor = LinearRegression()\n",
    "\n",
    "# Fit the model to the training data\n",
    "regressor.fit(X_train, y_train)\n",
    "\n",
    "# Predict the target values for the test data\n",
    "y_pred = regressor.predict(X_test)\n",
    "\n",
    "# Evaluate the model performance by comparing the predicted and actual target values\n",
    "print(\"R-squared:\", regressor.score(X_test, y_test))\n",
    "\n",
    "# Save the model\n",
    "import pickle\n",
    "pickle.dump(regressor, open('model.pkl', 'wb'))\n"
   ]
  },
  {
   "cell_type": "code",
   "execution_count": 7,
   "metadata": {},
   "outputs": [
    {
     "name": "stdout",
     "output_type": "stream",
     "text": [
      "[ 0.07419822 -0.16368211 -0.52742212  0.23113726  1.35319528 -0.7237368\n",
      " -1.78039383  2.59670227 -1.79624268  1.78407493 -2.09620619  2.03904984]\n",
      "-103.66692569751467\n"
     ]
    }
   ],
   "source": [
    "# get the formula for the model\n",
    "print(regressor.coef_)\n",
    "\n",
    "# get the intercept for the model\n",
    "print(regressor.intercept_)"
   ]
  },
  {
   "cell_type": "code",
   "execution_count": 8,
   "metadata": {},
   "outputs": [
    {
     "data": {
      "image/png": "[encoded data removed]",
      "text/plain": [
       "<Figure size 640x480 with 1 Axes>"
      ]
     },
     "metadata": {},
     "output_type": "display_data"
    }
   ],
   "source": [
    "# get a scatter plot of the actual and predicted values\n",
    "import matplotlib.pyplot as plt\n",
    "plt.scatter(y_test, y_pred)\n",
    "plt.xlabel('Actual')\n",
    "plt.ylabel('Predicted')\n",
    "plt.show()"
   ]
  },
  {
   "cell_type": "code",
   "execution_count": 9,
   "metadata": {},
   "outputs": [
    {
     "name": "stdout",
     "output_type": "stream",
     "text": [
      "1253415.9273273344\n",
      "The mean squared error (MSE) on test set: 1253415.9273\n"
     ]
    }
   ],
   "source": [
    "# get mse\n",
    "from sklearn.metrics import mean_squared_error\n",
    "mse = mean_squared_error(y_test, y_pred)\n",
    "print(mse)\n",
    "print(\"The mean squared error (MSE) on test set: {:.4f}\".format(mse))"
   ]
  },
  {
   "cell_type": "code",
   "execution_count": 41,
   "metadata": {},
   "outputs": [],
   "source": [
    "# make country to a string instead of object\n",
    "df['Country'] = df['Country'].astype(str)\n",
    "df['Country'] = df['Country'].apply(lambda x: x.replace('\\u202f', ''))"
   ]
  },
  {
   "cell_type": "code",
   "execution_count": 42,
   "metadata": {},
   "outputs": [
    {
     "data": {
      "text/plain": [
       "array(['United States', 'Iceland', 'Luxembourg', 'Switzerland',\n",
       "       'Netherlands', 'Denmark', 'Norway', 'Canada', 'Australia',\n",
       "       'Belgium', 'Germany', 'Austria', 'Ireland', 'United Kingdom',\n",
       "       'Sweden', 'Finland', 'France', 'New Zealand', 'South Korea',\n",
       "       'Slovenia', 'Israel', 'Japan', 'Spain', 'Italy', 'Poland',\n",
       "       'Lithuania', 'Estonia', 'Czech Republic', 'Latvia', 'Portugal',\n",
       "       'Greece', 'Chile', 'Hungary', 'Slovakia', 'Mexico'], dtype=object)"
      ]
     },
     "execution_count": 42,
     "metadata": {},
     "output_type": "execute_result"
    }
   ],
   "source": [
    "df['Country'].unique()"
   ]
  },
  {
   "cell_type": "code",
   "execution_count": 43,
   "metadata": {},
   "outputs": [
    {
     "data": {
      "text/html": [
       "<div>\n",
       "<style scoped>\n",
       "    .dataframe tbody tr th:only-of-type {\n",
       "        vertical-align: middle;\n",
       "    }\n",
       "\n",
       "    .dataframe tbody tr th {\n",
       "        vertical-align: top;\n",
       "    }\n",
       "\n",
       "    .dataframe thead th {\n",
       "        text-align: right;\n",
       "    }\n",
       "</style>\n",
       "<table border=\"1\" class=\"dataframe\">\n",
       "  <thead>\n",
       "    <tr style=\"text-align: right;\">\n",
       "      <th></th>\n",
       "      <th>Country</th>\n",
       "      <th>2000</th>\n",
       "      <th>2005</th>\n",
       "      <th>2010</th>\n",
       "      <th>2011</th>\n",
       "      <th>2012</th>\n",
       "      <th>2013</th>\n",
       "      <th>2014</th>\n",
       "      <th>2015</th>\n",
       "      <th>2016</th>\n",
       "      <th>2017</th>\n",
       "      <th>2018</th>\n",
       "      <th>2019</th>\n",
       "      <th>2020</th>\n",
       "    </tr>\n",
       "  </thead>\n",
       "  <tbody>\n",
       "    <tr>\n",
       "      <th>0</th>\n",
       "      <td>United States</td>\n",
       "      <td>55366</td>\n",
       "      <td>58092</td>\n",
       "      <td>61048</td>\n",
       "      <td>61132</td>\n",
       "      <td>61634</td>\n",
       "      <td>61347</td>\n",
       "      <td>62263</td>\n",
       "      <td>63845</td>\n",
       "      <td>63942</td>\n",
       "      <td>64618</td>\n",
       "      <td>65303</td>\n",
       "      <td>66383</td>\n",
       "      <td>69392</td>\n",
       "    </tr>\n",
       "  </tbody>\n",
       "</table>\n",
       "</div>"
      ],
      "text/plain": [
       "         Country   2000   2005   2010   2011   2012   2013   2014   2015  \\\n",
       "0  United States  55366  58092  61048  61132  61634  61347  62263  63845   \n",
       "\n",
       "    2016   2017   2018   2019   2020  \n",
       "0  63942  64618  65303  66383  69392  "
      ]
     },
     "execution_count": 43,
     "metadata": {},
     "output_type": "execute_result"
    }
   ],
   "source": [
    "# select USA from df\n",
    "df[df['Country'] == 'United States']"
   ]
  },
  {
   "cell_type": "code",
   "execution_count": 51,
   "metadata": {},
   "outputs": [
    {
     "data": {
      "text/plain": [
       "'United States'"
      ]
     },
     "execution_count": 51,
     "metadata": {},
     "output_type": "execute_result"
    }
   ],
   "source": [
    "df.head(1)['Country'].values[0]"
   ]
  },
  {
   "cell_type": "code",
   "execution_count": 52,
   "metadata": {},
   "outputs": [],
   "source": [
    "df = pd.read_csv(\"data/avg_wage.csv\")\n",
    "X = df.iloc[:, 1:-1].values\n",
    "df['Country'] = df['Country'].astype(str)\n",
    "df['Country'] = df['Country'].apply(lambda x: x.replace('\\u202f', ''))\n",
    "# sort values with 2020 data\n",
    "df = df.sort_values(by=['2020'], inplace=True, ascending=False)"
   ]
  },
  {
   "cell_type": "code",
   "execution_count": null,
   "metadata": {},
   "outputs": [],
   "source": []
  }
 ],
 "metadata": {
  "kernelspec": {
   "display_name": "Python 3",
   "language": "python",
   "name": "python3"
  },
  "language_info": {
   "codemirror_mode": {
    "name": "ipython",
    "version": 3
   },
   "file_extension": ".py",
   "mimetype": "text/x-python",
   "name": "python",
   "nbconvert_exporter": "python",
   "pygments_lexer": "ipython3",
   "version": "3.10.4"
  },
  "orig_nbformat": 4,
  "vscode": {
   "interpreter": {
    "hash": "3ad933181bd8a04b432d3370b9dc3b0662ad032c4dfaa4e4f1596c548f763858"
   }
  }
 },
 "nbformat": 4,
 "nbformat_minor": 2
}
